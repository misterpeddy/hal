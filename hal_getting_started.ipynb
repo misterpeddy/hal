{
  "nbformat": 4,
  "nbformat_minor": 0,
  "metadata": {
    "colab": {
      "name": "hal_getting_started.ipynb",
      "provenance": [],
      "authorship_tag": "ABX9TyNrs6O5/MRkyz0yYCDdYebC",
      "include_colab_link": true
    },
    "kernelspec": {
      "name": "python3",
      "display_name": "Python 3"
    },
    "language_info": {
      "name": "python"
    },
    "accelerator": "GPU"
  },
  "cells": [
    {
      "cell_type": "markdown",
      "metadata": {
        "id": "view-in-github",
        "colab_type": "text"
      },
      "source": [
        "<a href=\"https://colab.research.google.com/github/misterpeddy/hal/blob/master/hal_getting_started.ipynb\" target=\"_parent\"><img src=\"https://colab.research.google.com/assets/colab-badge.svg\" alt=\"Open In Colab\"/></a>"
      ]
    },
    {
      "cell_type": "code",
      "metadata": {
        "id": "zoRDdw7FrKJk"
      },
      "source": [
        "%load_ext autoreload\n",
        "%autoreload 2\n",
        "!nvidia-smi\n",
        "!git clone --recursive https://github.com/misterpeddy/hal.git\n",
        "! pip install torch==1.9.1+cu111 torchvision==0.10.1+cu111 torchaudio==0.9.1 -f https://download.pytorch.org/whl/torch_stable.html\n",
        "! pip install -e ./hal\n",
        "! curl -o freagan.pt https://storage.googleapis.com/peddy-ai-models/stylegan2-pt-rosinality/freagan.pt"
      ],
      "execution_count": null,
      "outputs": []
    },
    {
      "cell_type": "code",
      "metadata": {
        "id": "Z9oOYILft9Ng"
      },
      "source": [
        "import hal\n",
        "from hal.models import StyleGan\n",
        "hal.init()\n",
        "m = StyleGan()\n",
        "ex = m.example(2)\n",
        "hal.show(ex)"
      ],
      "execution_count": null,
      "outputs": []
    }
  ]
}